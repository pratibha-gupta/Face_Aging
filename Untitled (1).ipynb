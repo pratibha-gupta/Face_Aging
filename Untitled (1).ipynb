{
  "nbformat": 4,
  "nbformat_minor": 0,
  "metadata": {
    "colab": {
      "name": "Untitled",
      "provenance": []
    },
    "kernelspec": {
      "name": "python3",
      "display_name": "Python 3"
    }
  },
  "cells": [
    {
      "cell_type": "code",
      "metadata": {
        "id": "FnWvOGlRlx7i",
        "colab_type": "code",
        "colab": {}
      },
      "source": [
        "import pandas as pd\n",
        "import numpy as np\n",
        "import torch\n",
        "from torch import nn\n",
        "from torch import optim\n",
        "from torch.autograd import Variable\n",
        "import torchvision.transforms as transforms\n",
        "import torchvision.datasets as dset\n",
        "import torch.nn.functional as F\n",
        "import torchvision.utils as vutils\n",
        "import pickle\n",
        "from PIL import ImageFile\n",
        "ImageFile.LOAD_TRUNCATED_IMAGES = True"
      ],
      "execution_count": null,
      "outputs": []
    },
    {
      "cell_type": "code",
      "metadata": {
        "id": "xkdYQK4emDft",
        "colab_type": "code",
        "colab": {}
      },
      "source": [
        "n_channel = 3\n",
        "n_disc = 16\n",
        "n_gen = 64\n",
        "n_encode = 64\n",
        "n_l = 10\n",
        "n_z = 50\n",
        "img_size = 128\n",
        "batchSize = 20\n",
        "use_cuda = torch.cuda.is_available()\n",
        "n_age = int(n_z/n_l)\n",
        "n_gender = int(n_z/2)"
      ],
      "execution_count": null,
      "outputs": []
    },
    {
      "cell_type": "code",
      "metadata": {
        "id": "x-_haUE2cM5j",
        "colab_type": "code",
        "colab": {
          "base_uri": "https://localhost:8080/",
          "height": 34
        },
        "outputId": "1932816f-487a-4996-ba49-6285c7546942"
      },
      "source": [
        "from google.colab import drive\n",
        "drive.mount(\"/content/drive\")"
      ],
      "execution_count": null,
      "outputs": [
        {
          "output_type": "stream",
          "text": [
            "Mounted at /content/drive\n"
          ],
          "name": "stdout"
        }
      ]
    },
    {
      "cell_type": "code",
      "metadata": {
        "id": "fXRZ8I6KcNBM",
        "colab_type": "code",
        "colab": {
          "base_uri": "https://localhost:8080/",
          "height": 34
        },
        "outputId": "2685e562-fe2d-4fd6-eeb0-e90921f9f493"
      },
      "source": [
        "%cd \"/content/drive/My Drive/data/\""
      ],
      "execution_count": null,
      "outputs": [
        {
          "output_type": "stream",
          "text": [
            "/content/drive/My Drive/data\n"
          ],
          "name": "stdout"
        }
      ]
    },
    {
      "cell_type": "code",
      "metadata": {
        "id": "De84TVfZcNMS",
        "colab_type": "code",
        "colab": {
          "base_uri": "https://localhost:8080/",
          "height": 140
        },
        "outputId": "906e275b-34b4-48d8-9310-b893a264862f"
      },
      "source": [
        "#  !unzip \"/content/drive/My Drive/UTKFace.tar.gz\""
      ],
      "execution_count": null,
      "outputs": [
        {
          "output_type": "stream",
          "text": [
            "Archive:  /content/drive/My Drive/UTKFace.tar.gz\n",
            "  End-of-central-directory signature not found.  Either this file is not\n",
            "  a zipfile, or it constitutes one disk of a multi-part archive.  In the\n",
            "  latter case the central directory and zipfile comment will be found on\n",
            "  the last disk(s) of this archive.\n",
            "unzip:  cannot find zipfile directory in one of /content/drive/My Drive/UTKFace.tar.gz or\n",
            "        /content/drive/My Drive/UTKFace.tar.gz.zip, and cannot find /content/drive/My Drive/UTKFace.tar.gz.ZIP, period.\n"
          ],
          "name": "stdout"
        }
      ]
    },
    {
      "cell_type": "code",
      "metadata": {
        "id": "bfHoRxbGaw2x",
        "colab_type": "code",
        "colab": {
          "base_uri": "https://localhost:8080/",
          "height": 72
        },
        "outputId": "25a2da01-3bda-452c-ba47-d02b6f4c696c"
      },
      "source": [
        "des_dir = 'UTKFace1'\n",
        "\n",
        "dataset = dset.ImageFolder(root=des_dir,\n",
        "                           transform=transforms.Compose([\n",
        "                               transforms.Scale(img_size),\n",
        "                               transforms.ToTensor(),\n",
        "                               transforms.Normalize((0.5, 0.5, 0.5), (0.5, 0.5, 0.5)),\n",
        "                           ]))\n",
        "\n",
        "dataloader = torch.utils.data.DataLoader(dataset,\n",
        "                                         batch_size= batchSize,\n",
        "                                         shuffle=True)"
      ],
      "execution_count": null,
      "outputs": [
        {
          "output_type": "stream",
          "text": [
            "/usr/local/lib/python3.6/dist-packages/torchvision/transforms/transforms.py:257: UserWarning: The use of the transforms.Scale transform is deprecated, please use transforms.Resize instead.\n",
            "  \"please use transforms.Resize instead.\")\n"
          ],
          "name": "stderr"
        }
      ]
    },
    {
      "cell_type": "code",
      "metadata": {
        "id": "SZis3O6aa5l4",
        "colab_type": "code",
        "colab": {}
      },
      "source": [
        "class Encoder(nn.Module):\n",
        "    def __init__(self):\n",
        "        super(Encoder,self).__init__()\n",
        "        self.conv = nn.Sequential(\n",
        "            #input: 3*128*128\n",
        "            nn.Conv2d(n_channel,n_encode,5,2,2),\n",
        "            nn.ReLU(),\n",
        "            \n",
        "            nn.Conv2d(n_encode,2*n_encode,5,2,2),\n",
        "            nn.ReLU(),\n",
        "            \n",
        "            nn.Conv2d(2*n_encode,4*n_encode,5,2,2),\n",
        "            nn.ReLU(),\n",
        "            \n",
        "            nn.Conv2d(4*n_encode,8*n_encode,5,2,2),\n",
        "            nn.ReLU(),\n",
        "        \n",
        "        )\n",
        "        self.fc = nn.Linear(8*n_encode*8*8,50)\n",
        "        \n",
        "    def forward(self,x):\n",
        "        conv = self.conv(x).view(-1,8*n_encode*8*8)\n",
        "        out = self.fc(conv)\n",
        "        return out"
      ],
      "execution_count": null,
      "outputs": []
    },
    {
      "cell_type": "code",
      "metadata": {
        "id": "T0uPvqL27IIg",
        "colab_type": "code",
        "colab": {}
      },
      "source": [
        ""
      ],
      "execution_count": null,
      "outputs": []
    }
  ]
}